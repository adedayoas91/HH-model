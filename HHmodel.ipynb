{
 "cells": [
  {
   "cell_type": "code",
   "execution_count": 2,
   "metadata": {},
   "outputs": [],
   "source": [
    "%matplotlib inline\n",
    "import numpy as np\n",
    "import matplotlib.pyplot as plt"
   ]
  },
  {
   "cell_type": "code",
   "execution_count": 3,
   "metadata": {},
   "outputs": [
    {
     "name": "stdout",
     "output_type": "stream",
     "text": [
      "[-1.00000000e+02 -9.97595190e+01 -9.95190381e+01 -9.92785571e+01\n",
      " -9.90380762e+01 -9.87975952e+01 -9.85571142e+01 -9.83166333e+01\n",
      " -9.80761523e+01 -9.78356713e+01 -9.75951904e+01 -9.73547094e+01\n",
      " -9.71142285e+01 -9.68737475e+01 -9.66332665e+01 -9.63927856e+01\n",
      " -9.61523046e+01 -9.59118236e+01 -9.56713427e+01 -9.54308617e+01\n",
      " -9.51903808e+01 -9.49498998e+01 -9.47094188e+01 -9.44689379e+01\n",
      " -9.42284569e+01 -9.39879760e+01 -9.37474950e+01 -9.35070140e+01\n",
      " -9.32665331e+01 -9.30260521e+01 -9.27855711e+01 -9.25450902e+01\n",
      " -9.23046092e+01 -9.20641283e+01 -9.18236473e+01 -9.15831663e+01\n",
      " -9.13426854e+01 -9.11022044e+01 -9.08617234e+01 -9.06212425e+01\n",
      " -9.03807615e+01 -9.01402806e+01 -8.98997996e+01 -8.96593186e+01\n",
      " -8.94188377e+01 -8.91783567e+01 -8.89378758e+01 -8.86973948e+01\n",
      " -8.84569138e+01 -8.82164329e+01 -8.79759519e+01 -8.77354709e+01\n",
      " -8.74949900e+01 -8.72545090e+01 -8.70140281e+01 -8.67735471e+01\n",
      " -8.65330661e+01 -8.62925852e+01 -8.60521042e+01 -8.58116232e+01\n",
      " -8.55711423e+01 -8.53306613e+01 -8.50901804e+01 -8.48496994e+01\n",
      " -8.46092184e+01 -8.43687375e+01 -8.41282565e+01 -8.38877756e+01\n",
      " -8.36472946e+01 -8.34068136e+01 -8.31663327e+01 -8.29258517e+01\n",
      " -8.26853707e+01 -8.24448898e+01 -8.22044088e+01 -8.19639279e+01\n",
      " -8.17234469e+01 -8.14829659e+01 -8.12424850e+01 -8.10020040e+01\n",
      " -8.07615230e+01 -8.05210421e+01 -8.02805611e+01 -8.00400802e+01\n",
      " -7.97995992e+01 -7.95591182e+01 -7.93186373e+01 -7.90781563e+01\n",
      " -7.88376754e+01 -7.85971944e+01 -7.83567134e+01 -7.81162325e+01\n",
      " -7.78757515e+01 -7.76352705e+01 -7.73947896e+01 -7.71543086e+01\n",
      " -7.69138277e+01 -7.66733467e+01 -7.64328657e+01 -7.61923848e+01\n",
      " -7.59519038e+01 -7.57114228e+01 -7.54709419e+01 -7.52304609e+01\n",
      " -7.49899800e+01 -7.47494990e+01 -7.45090180e+01 -7.42685371e+01\n",
      " -7.40280561e+01 -7.37875752e+01 -7.35470942e+01 -7.33066132e+01\n",
      " -7.30661323e+01 -7.28256513e+01 -7.25851703e+01 -7.23446894e+01\n",
      " -7.21042084e+01 -7.18637275e+01 -7.16232465e+01 -7.13827655e+01\n",
      " -7.11422846e+01 -7.09018036e+01 -7.06613226e+01 -7.04208417e+01\n",
      " -7.01803607e+01 -6.99398798e+01 -6.96993988e+01 -6.94589178e+01\n",
      " -6.92184369e+01 -6.89779559e+01 -6.87374749e+01 -6.84969940e+01\n",
      " -6.82565130e+01 -6.80160321e+01 -6.77755511e+01 -6.75350701e+01\n",
      " -6.72945892e+01 -6.70541082e+01 -6.68136273e+01 -6.65731463e+01\n",
      " -6.63326653e+01 -6.60921844e+01 -6.58517034e+01 -6.56112224e+01\n",
      " -6.53707415e+01 -6.51302605e+01 -6.48897796e+01 -6.46492986e+01\n",
      " -6.44088176e+01 -6.41683367e+01 -6.39278557e+01 -6.36873747e+01\n",
      " -6.34468938e+01 -6.32064128e+01 -6.29659319e+01 -6.27254509e+01\n",
      " -6.24849699e+01 -6.22444890e+01 -6.20040080e+01 -6.17635271e+01\n",
      " -6.15230461e+01 -6.12825651e+01 -6.10420842e+01 -6.08016032e+01\n",
      " -6.05611222e+01 -6.03206413e+01 -6.00801603e+01 -5.98396794e+01\n",
      " -5.95991984e+01 -5.93587174e+01 -5.91182365e+01 -5.88777555e+01\n",
      " -5.86372745e+01 -5.83967936e+01 -5.81563126e+01 -5.79158317e+01\n",
      " -5.76753507e+01 -5.74348697e+01 -5.71943888e+01 -5.69539078e+01\n",
      " -5.67134269e+01 -5.64729459e+01 -5.62324649e+01 -5.59919840e+01\n",
      " -5.57515030e+01 -5.55110220e+01 -5.52705411e+01 -5.50300601e+01\n",
      " -5.47895792e+01 -5.45490982e+01 -5.43086172e+01 -5.40681363e+01\n",
      " -5.38276553e+01 -5.35871743e+01 -5.33466934e+01 -5.31062124e+01\n",
      " -5.28657315e+01 -5.26252505e+01 -5.23847695e+01 -5.21442886e+01\n",
      " -5.19038076e+01 -5.16633267e+01 -5.14228457e+01 -5.11823647e+01\n",
      " -5.09418838e+01 -5.07014028e+01 -5.04609218e+01 -5.02204409e+01\n",
      " -4.99799599e+01 -4.97394790e+01 -4.94989980e+01 -4.92585170e+01\n",
      " -4.90180361e+01 -4.87775551e+01 -4.85370741e+01 -4.82965932e+01\n",
      " -4.80561122e+01 -4.78156313e+01 -4.75751503e+01 -4.73346693e+01\n",
      " -4.70941884e+01 -4.68537074e+01 -4.66132265e+01 -4.63727455e+01\n",
      " -4.61322645e+01 -4.58917836e+01 -4.56513026e+01 -4.54108216e+01\n",
      " -4.51703407e+01 -4.49298597e+01 -4.46893788e+01 -4.44488978e+01\n",
      " -4.42084168e+01 -4.39679359e+01 -4.37274549e+01 -4.34869739e+01\n",
      " -4.32464930e+01 -4.30060120e+01 -4.27655311e+01 -4.25250501e+01\n",
      " -4.22845691e+01 -4.20440882e+01 -4.18036072e+01 -4.15631263e+01\n",
      " -4.13226453e+01 -4.10821643e+01 -4.08416834e+01 -4.06012024e+01\n",
      " -4.03607214e+01 -4.01202405e+01 -3.98797595e+01 -3.96392786e+01\n",
      " -3.93987976e+01 -3.91583166e+01 -3.89178357e+01 -3.86773547e+01\n",
      " -3.84368737e+01 -3.81963928e+01 -3.79559118e+01 -3.77154309e+01\n",
      " -3.74749499e+01 -3.72344689e+01 -3.69939880e+01 -3.67535070e+01\n",
      " -3.65130261e+01 -3.62725451e+01 -3.60320641e+01 -3.57915832e+01\n",
      " -3.55511022e+01 -3.53106212e+01 -3.50701403e+01 -3.48296593e+01\n",
      " -3.45891784e+01 -3.43486974e+01 -3.41082164e+01 -3.38677355e+01\n",
      " -3.36272545e+01 -3.33867735e+01 -3.31462926e+01 -3.29058116e+01\n",
      " -3.26653307e+01 -3.24248497e+01 -3.21843687e+01 -3.19438878e+01\n",
      " -3.17034068e+01 -3.14629259e+01 -3.12224449e+01 -3.09819639e+01\n",
      " -3.07414830e+01 -3.05010020e+01 -3.02605210e+01 -3.00200401e+01\n",
      " -2.97795591e+01 -2.95390782e+01 -2.92985972e+01 -2.90581162e+01\n",
      " -2.88176353e+01 -2.85771543e+01 -2.83366733e+01 -2.80961924e+01\n",
      " -2.78557114e+01 -2.76152305e+01 -2.73747495e+01 -2.71342685e+01\n",
      " -2.68937876e+01 -2.66533066e+01 -2.64128257e+01 -2.61723447e+01\n",
      " -2.59318637e+01 -2.56913828e+01 -2.54509018e+01 -2.52104208e+01\n",
      " -2.49699399e+01 -2.47294589e+01 -2.44889780e+01 -2.42484970e+01\n",
      " -2.40080160e+01 -2.37675351e+01 -2.35270541e+01 -2.32865731e+01\n",
      " -2.30460922e+01 -2.28056112e+01 -2.25651303e+01 -2.23246493e+01\n",
      " -2.20841683e+01 -2.18436874e+01 -2.16032064e+01 -2.13627255e+01\n",
      " -2.11222445e+01 -2.08817635e+01 -2.06412826e+01 -2.04008016e+01\n",
      " -2.01603206e+01 -1.99198397e+01 -1.96793587e+01 -1.94388778e+01\n",
      " -1.91983968e+01 -1.89579158e+01 -1.87174349e+01 -1.84769539e+01\n",
      " -1.82364729e+01 -1.79959920e+01 -1.77555110e+01 -1.75150301e+01\n",
      " -1.72745491e+01 -1.70340681e+01 -1.67935872e+01 -1.65531062e+01\n",
      " -1.63126253e+01 -1.60721443e+01 -1.58316633e+01 -1.55911824e+01\n",
      " -1.53507014e+01 -1.51102204e+01 -1.48697395e+01 -1.46292585e+01\n",
      " -1.43887776e+01 -1.41482966e+01 -1.39078156e+01 -1.36673347e+01\n",
      " -1.34268537e+01 -1.31863727e+01 -1.29458918e+01 -1.27054108e+01\n",
      " -1.24649299e+01 -1.22244489e+01 -1.19839679e+01 -1.17434870e+01\n",
      " -1.15030060e+01 -1.12625251e+01 -1.10220441e+01 -1.07815631e+01\n",
      " -1.05410822e+01 -1.03006012e+01 -1.00601202e+01 -9.81963928e+00\n",
      " -9.57915832e+00 -9.33867735e+00 -9.09819639e+00 -8.85771543e+00\n",
      " -8.61723447e+00 -8.37675351e+00 -8.13627255e+00 -7.89579158e+00\n",
      " -7.65531062e+00 -7.41482966e+00 -7.17434870e+00 -6.93386774e+00\n",
      " -6.69338677e+00 -6.45290581e+00 -6.21242485e+00 -5.97194389e+00\n",
      " -5.73146293e+00 -5.49098196e+00 -5.25050100e+00 -5.01002004e+00\n",
      " -4.76953908e+00 -4.52905812e+00 -4.28857715e+00 -4.04809619e+00\n",
      " -3.80761523e+00 -3.56713427e+00 -3.32665331e+00 -3.08617234e+00\n",
      " -2.84569138e+00 -2.60521042e+00 -2.36472946e+00 -2.12424850e+00\n",
      " -1.88376754e+00 -1.64328657e+00 -1.40280561e+00 -1.16232465e+00\n",
      " -9.21843687e-01 -6.81362725e-01 -4.40881764e-01 -2.00400802e-01\n",
      "  4.00801603e-02  2.80561122e-01  5.21042084e-01  7.61523046e-01\n",
      "  1.00200401e+00  1.24248497e+00  1.48296593e+00  1.72344689e+00\n",
      "  1.96392786e+00  2.20440882e+00  2.44488978e+00  2.68537074e+00\n",
      "  2.92585170e+00  3.16633267e+00  3.40681363e+00  3.64729459e+00\n",
      "  3.88777555e+00  4.12825651e+00  4.36873747e+00  4.60921844e+00\n",
      "  4.84969940e+00  5.09018036e+00  5.33066132e+00  5.57114228e+00\n",
      "  5.81162325e+00  6.05210421e+00  6.29258517e+00  6.53306613e+00\n",
      "  6.77354709e+00  7.01402806e+00  7.25450902e+00  7.49498998e+00\n",
      "  7.73547094e+00  7.97595190e+00  8.21643287e+00  8.45691383e+00\n",
      "  8.69739479e+00  8.93787575e+00  9.17835671e+00  9.41883768e+00\n",
      "  9.65931864e+00  9.89979960e+00  1.01402806e+01  1.03807615e+01\n",
      "  1.06212425e+01  1.08617234e+01  1.11022044e+01  1.13426854e+01\n",
      "  1.15831663e+01  1.18236473e+01  1.20641283e+01  1.23046092e+01\n",
      "  1.25450902e+01  1.27855711e+01  1.30260521e+01  1.32665331e+01\n",
      "  1.35070140e+01  1.37474950e+01  1.39879760e+01  1.42284569e+01\n",
      "  1.44689379e+01  1.47094188e+01  1.49498998e+01  1.51903808e+01\n",
      "  1.54308617e+01  1.56713427e+01  1.59118236e+01  1.61523046e+01\n",
      "  1.63927856e+01  1.66332665e+01  1.68737475e+01  1.71142285e+01\n",
      "  1.73547094e+01  1.75951904e+01  1.78356713e+01  1.80761523e+01\n",
      "  1.83166333e+01  1.85571142e+01  1.87975952e+01  1.90380762e+01\n",
      "  1.92785571e+01  1.95190381e+01  1.97595190e+01  2.00000000e+01]\n"
     ]
    }
   ],
   "source": [
    "v = np.linspace(-100, 20, 500)\n",
    "print(v)"
   ]
  },
  {
   "cell_type": "code",
   "execution_count": 7,
   "metadata": {},
   "outputs": [],
   "source": [
    "c_m=10\n",
    "v_zero=-65\n",
    "m_zero=0.0529\n",
    "h_zero=0.5961\n",
    "n_zero=0.3177\n",
    "g_l=0.003\n",
    "g_k=0.360\n",
    "g_na=1.200\n",
    "E_l=-54.387\n",
    "E_k=-77\n",
    "E_na=50\n",
    "delta_t=0.0001\n",
    "z=200\n",
    "#time_step = 100"
   ]
  },
  {
   "cell_type": "code",
   "execution_count": 8,
   "metadata": {},
   "outputs": [],
   "source": [
    "def infFunction(alpha, beta):\n",
    "    inf = alpha/(alpha+beta)\n",
    "    return inf\n",
    "\n",
    "def tauFunction(alpha, beta):\n",
    "    tau = 1/(alpha+beta)\n",
    "    return tau\n",
    "\n",
    "def myFunction(n,inf,delta_t,tau):\n",
    "    new = n + ((inf - n)*delta_t)/tau\n",
    "    return new\n",
    "\n",
    "def voltage(v,i_m,z,c_m):\n",
    "    v_new = v - (i_m-z)*delta_t*(1/c_m)\n",
    "    return v_new"
   ]
  },
  {
   "cell_type": "code",
   "execution_count": 1,
   "metadata": {
    "scrolled": true
   },
   "outputs": [
    {
     "ename": "NameError",
     "evalue": "name 'np' is not defined",
     "output_type": "error",
     "traceback": [
      "\u001b[1;31m---------------------------------------------------------------------------\u001b[0m",
      "\u001b[1;31mNameError\u001b[0m                                 Traceback (most recent call last)",
      "\u001b[1;32m<ipython-input-1-a5bd4cc16c2b>\u001b[0m in \u001b[0;36m<module>\u001b[1;34m\u001b[0m\n\u001b[0;32m      1\u001b[0m \u001b[0mT\u001b[0m\u001b[1;33m=\u001b[0m\u001b[1;36m100\u001b[0m\u001b[1;33m\u001b[0m\u001b[1;33m\u001b[0m\u001b[0m\n\u001b[1;32m----> 2\u001b[1;33m \u001b[0mvs\u001b[0m \u001b[1;33m=\u001b[0m \u001b[0mnp\u001b[0m\u001b[1;33m.\u001b[0m\u001b[0mzeros\u001b[0m\u001b[1;33m(\u001b[0m\u001b[0mT\u001b[0m\u001b[1;33m)\u001b[0m\u001b[1;33m\u001b[0m\u001b[1;33m\u001b[0m\u001b[0m\n\u001b[0m\u001b[0;32m      3\u001b[0m \u001b[0mns\u001b[0m \u001b[1;33m=\u001b[0m \u001b[0mnp\u001b[0m\u001b[1;33m.\u001b[0m\u001b[0mzeros\u001b[0m\u001b[1;33m(\u001b[0m\u001b[0mT\u001b[0m\u001b[1;33m)\u001b[0m\u001b[1;33m\u001b[0m\u001b[1;33m\u001b[0m\u001b[0m\n\u001b[0;32m      4\u001b[0m \u001b[0mms\u001b[0m \u001b[1;33m=\u001b[0m \u001b[0mnp\u001b[0m\u001b[1;33m.\u001b[0m\u001b[0mzeros\u001b[0m\u001b[1;33m(\u001b[0m\u001b[0mT\u001b[0m\u001b[1;33m)\u001b[0m\u001b[1;33m\u001b[0m\u001b[1;33m\u001b[0m\u001b[0m\n\u001b[0;32m      5\u001b[0m \u001b[0mhs\u001b[0m \u001b[1;33m=\u001b[0m \u001b[0mnp\u001b[0m\u001b[1;33m.\u001b[0m\u001b[0mzeros\u001b[0m\u001b[1;33m(\u001b[0m\u001b[0mT\u001b[0m\u001b[1;33m)\u001b[0m\u001b[1;33m\u001b[0m\u001b[1;33m\u001b[0m\u001b[0m\n",
      "\u001b[1;31mNameError\u001b[0m: name 'np' is not defined"
     ]
    }
   ],
   "source": [
    "T=100\n",
    "vs = np.zeros(T)\n",
    "ns = np.zeros(T)\n",
    "ms = np.zeros(T)\n",
    "hs = np.zeros(T)\n",
    "\n",
    "vs[0] = v_zero\n",
    "ns[0] = n_zero\n",
    "ms[0] = m_zero\n",
    "hs[0] = h_zero\n",
    "\n",
    "n_vector = np.zeros(3)\n",
    "m_vector = np.zeros(3)\n",
    "h_vector = np.zeros(3)\n",
    "\n",
    "for i in range(1,T):\n",
    "   \n",
    "    alpha_n = 10000*(vs[i-1]+0.055)/(1-np.exp(-100*(vs[i-1]+0.055)))\n",
    "    beta_n = 125000*np.exp(-12.5*(vs[i-1]+0.065))\n",
    "\n",
    "    tau_n = tauFunction(alpha_n, beta_n)\n",
    "    n_inf = infFunction(alpha_n, beta_n)\n",
    "    n_new = myFunction(ns[i-1],n_inf,delta_t,tau_n)\n",
    "    \n",
    "    n_vector[0] = tau_n\n",
    "    n_vector[1] = n_inf\n",
    "    n_vector[2] = n_new\n",
    "    print(n_vector)\n",
    "    \n",
    "    ns[i] = n_new\n",
    "    \n",
    "    #Calculate m\n",
    "    alpha_m = 100000*(vs[i-1]+0.040)/(1-np.exp(-100*(vs[i-1]+0.040)))\n",
    "    beta_m = 4000000*np.exp(-55.6*(vs[i-1]+0.065))\n",
    "\n",
    "    tau_m = tauFunction(alpha_m, beta_m)\n",
    "    m_inf = infFunction(alpha_m, beta_m)\n",
    "    m_new = myFunction(ms[i-1],m_inf,delta_t,tau_m)\n",
    "\n",
    "    m_vector[0] = tau_m\n",
    "    m_vector[1] = m_inf\n",
    "    m_vector[2] = m_new\n",
    "    print(m_vector)\n",
    "    \n",
    "    ms[i]= m_new\n",
    "    \n",
    "    #Calculate h\n",
    "    alpha_h = 70000*np.exp(-50*(vs[i-1]+0.065))\n",
    "    beta_h = 1000000/(1+np.exp(-100*(vs[i-1]+0.035)))\n",
    "\n",
    "    tau_h = tauFunction(alpha_h, beta_h)\n",
    "    h_inf = infFunction(alpha_h, beta_h)\n",
    "    h_new = myFunction(hs[i-1],h_inf,delta_t,tau_h)\n",
    "\n",
    "    \n",
    "    h_vector[0] = tau_h\n",
    "    h_vector[1] = h_inf\n",
    "    h_vector[2] = h_new\n",
    "    print(h_vector)\n",
    "\n",
    "    hs[i]= h_new\n",
    "    \n",
    "    i_m = g_l*(vs[i-1]-E_l) + g_k*(ns[i-1]**4)*(vs[i-1]-E_k) + g_na*(ms[i-1]**3)*hs[i-1]*(vs[i-1]-E_na)\n",
    "    vs[i] = voltage(vs[i-1],i_m,z,c_m)\n",
    "    print(vs[i])"
   ]
  },
  {
   "cell_type": "code",
   "execution_count": 10,
   "metadata": {},
   "outputs": [
    {
     "data": {
      "text/plain": [
       "[<matplotlib.lines.Line2D at 0x208d5c08ef0>]"
      ]
     },
     "execution_count": 10,
     "metadata": {},
     "output_type": "execute_result"
    },
    {
     "data": {
      "image/png": "[encoded data removed]",
      "text/plain": [
       "<Figure size 432x288 with 1 Axes>"
      ]
     },
     "metadata": {
      "needs_background": "light"
     },
     "output_type": "display_data"
    }
   ],
   "source": [
    "plt.plot(vs)"
   ]
  },
  {
   "cell_type": "code",
   "execution_count": null,
   "metadata": {},
   "outputs": [],
   "source": []
  },
  {
   "cell_type": "code",
   "execution_count": null,
   "metadata": {},
   "outputs": [],
   "source": []
  },
  {
   "cell_type": "code",
   "execution_count": null,
   "metadata": {},
   "outputs": [],
   "source": []
  },
  {
   "cell_type": "code",
   "execution_count": null,
   "metadata": {},
   "outputs": [],
   "source": []
  }
 ],
 "metadata": {
  "kernelspec": {
   "display_name": "Python 3",
   "language": "python",
   "name": "python3"
  },
  "language_info": {
   "codemirror_mode": {
    "name": "ipython",
    "version": 3
   },
   "file_extension": ".py",
   "mimetype": "text/x-python",
   "name": "python",
   "nbconvert_exporter": "python",
   "pygments_lexer": "ipython3",
   "version": "3.7.1"
  }
 },
 "nbformat": 4,
 "nbformat_minor": 2
}
